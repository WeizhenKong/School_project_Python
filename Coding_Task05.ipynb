#!/usr/bin/env python3
# -*- coding: utf-8 -*-
"""
Created on Wed Nov 20 20:23:19 2019

@author: kongweizhen
"""
#Function 1:
import string

def read_data():
    f = open('ScientificAmerican.txt','r')
    S = None
    S = f.read()
    
    list_of_words=''
    for word in S:
        wd = word.lower()
        if wd in string.ascii_lowercase or wd ==" " or wd == "\'":
            list_of_words = list_of_words +wd
        else:
            list_of_words = list_of_words +''
    list_of_words = list_of_words.split()
    return list_of_words
    
list_of_words = read_data()


#Function 2
def process_data(list_of_words):
    length = []
    for n in list_of_words:
        length.append(len(n))
    
    some_data_structure = {}
    for n in length:
        if n not in some_data_structure:
            some_data_structure[n] = 1
        else:
            some_data_structure[n] +=1
    
    return some_data_structure
    
some_data_structure = process_data(list_of_words)



#Function 3
def print_count_histogram(some_data_structure): 
    sorted_count={}
    for n in sorted(some_data_structure.keys()):
        sorted_count[n] = some_data_structure[n]
        
    for key in sorted_count:
        print (key,':',(sorted_count[key])*"*")

print_count_histogram(some_data_structure)